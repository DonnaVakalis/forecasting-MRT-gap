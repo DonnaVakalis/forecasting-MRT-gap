{
  "nbformat": 4,
  "nbformat_minor": 0,
  "metadata": {
    "colab": {
      "name": "model_LSTM.ipynb",
      "provenance": [],
      "collapsed_sections": [],
      "authorship_tag": "ABX9TyPltDDtHDZJuJ/UBX37ecMg",
      "include_colab_link": true
    },
    "kernelspec": {
      "name": "python3",
      "display_name": "Python 3"
    },
    "language_info": {
      "name": "python"
    }
  },
  "cells": [
    {
      "cell_type": "markdown",
      "metadata": {
        "id": "view-in-github",
        "colab_type": "text"
      },
      "source": [
        "<a href=\"https://colab.research.google.com/github/DonnaVakalis/forecasting-MRT-gap/blob/main/model/model_BiLSTM.ipynb\" target=\"_parent\"><img src=\"https://colab.research.google.com/assets/colab-badge.svg\" alt=\"Open In Colab\"/></a>"
      ]
    },
    {
      "cell_type": "markdown",
      "metadata": {
        "id": "PotS_WG4C0bC"
      },
      "source": [
        "# PREAMBLE (ABOUT THIS NOTEBOOK)"
      ]
    },
    {
      "cell_type": "markdown",
      "metadata": {
        "id": "_gBDZLPtC7VV"
      },
      "source": [
        "This notebook applies data prediction with Keras LSTM model in Python, on time series (hourly) weather data to predict daily thermal comfort exceedances indoors (e.g., when it gets too hot, and by how much). While this notebook contains only the first steps, ultimately it can help determine how much cooling is needed (in terms of mean radiant temperature or MRT), and ultimately help decide on which cooling technologies are feasible and most carbon efficient."
      ]
    },
    {
      "cell_type": "markdown",
      "metadata": {
        "id": "7TblImSlCdcM"
      },
      "source": [
        "# IMPORTS"
      ]
    },
    {
      "cell_type": "code",
      "metadata": {
        "id": "GqrUpMCWCcCi"
      },
      "source": [
        "import os\n",
        "from google.colab import drive\n",
        "import pickle\n",
        "import glob\n",
        "import numpy as np\n",
        "import pandas as pd\n",
        "\n",
        "from tensorflow.keras import layers\n",
        "from tensorflow import keras \n",
        "import tensorflow as tf\n",
        "\n",
        "from keras.models import Sequential\n",
        "from keras.layers import Dense, LSTM\n",
        "\n",
        "from numpy import array\n",
        "\n",
        "import matplotlib.pyplot as plt\n",
        "\n",
        "from sklearn.model_selection import train_test_split\n",
        "from sklearn.metrics import mean_squared_error"
      ],
      "execution_count": 1,
      "outputs": []
    },
    {
      "cell_type": "markdown",
      "metadata": {
        "id": "AAFXnOugCxQy"
      },
      "source": [
        "# LOAD THE DATA"
      ]
    },
    {
      "cell_type": "markdown",
      "metadata": {
        "id": "VoRTvWQ-JxmY"
      },
      "source": [
        "The training and testing datasets were pre-processed in a separate notebook saved as separate pickles for 2015,2016 and 2017 (and separated by training and test and output variables based on a prior project) in this public repository:\n",
        "\n",
        "https://github.com/eta-lab/forecasting-comfort\n",
        "\n",
        "Details about methods from this project can be found here: Rysanek, A., Nuttall, R., McCarty, J, (2021). Forecasting the impact of climate change on thermal comfort using a weighted ensemble of supervised learning models. Building & Environment."
      ]
    },
    {
      "cell_type": "code",
      "metadata": {
        "colab": {
          "base_uri": "https://localhost:8080/"
        },
        "id": "oXkLfzWnCzit",
        "outputId": "6814266c-ee45-4d01-c45a-7a5306ef43ff"
      },
      "source": [
        "# Point to the folder for this project (forecasting-MRT-gap/data)\n",
        "drive.mount('/content/gdrive')\n",
        "DATA_PATH = \"/content/gdrive/My Drive/Colab Notebooks/forecasting-MRT-gap/data\""
      ],
      "execution_count": 2,
      "outputs": [
        {
          "output_type": "stream",
          "name": "stdout",
          "text": [
            "Mounted at /content/gdrive\n"
          ]
        }
      ]
    },
    {
      "cell_type": "markdown",
      "metadata": {
        "id": "CJS4khlBBodr"
      },
      "source": [
        "## GET OUTDOOR AIR TEMPERATURES FOR SUMMER 2015, 2016 and 2017"
      ]
    },
    {
      "cell_type": "markdown",
      "metadata": {
        "id": "Xto7qFE1Xy9X"
      },
      "source": [
        "For each year 2015,2016,2017, examine temperature data (outdoor) and prepare to remerge training/test sets (for dynamically selecting training/testing sets from whole)"
      ]
    },
    {
      "cell_type": "markdown",
      "metadata": {
        "id": "01BPEVfMoGHw"
      },
      "source": [
        "## Explore the data"
      ]
    },
    {
      "cell_type": "code",
      "metadata": {
        "colab": {
          "base_uri": "https://localhost:8080/",
          "height": 0
        },
        "id": "doivvZSBJv8T",
        "outputId": "de39908d-5812-455e-edb5-b7450f605853"
      },
      "source": [
        "# 2015\n",
        "\n",
        "dat_train = pickle.load(open(DATA_PATH +'/trainX_2015.pkl','rb'))\n",
        "dat_test = pickle.load(open(DATA_PATH +'/testX_2015.pkl','rb'))\n",
        "\n",
        "# check if train and test set are the same, and visualize temp values\n",
        "df_diff = pd.concat([dat_train,dat_test]).drop_duplicates(keep=False)\n",
        "print(df_diff.shape, dat_train.shape, dat_test.shape)\n",
        "df_train = dat_train[['temp']]\n",
        "df_test = dat_test[['temp']]\n",
        "plt.plot(df_train.index, df_train.temp, df_test .index, df_test .temp)\n",
        "plt.show() "
      ],
      "execution_count": 3,
      "outputs": [
        {
          "output_type": "stream",
          "name": "stdout",
          "text": [
            "(5781, 51) (4407, 51) (1374, 51)\n"
          ]
        },
        {
          "output_type": "display_data",
          "data": {
            "image/png": "[encoded data removed]",
            "text/plain": [
              "<Figure size 432x288 with 1 Axes>"
            ]
          },
          "metadata": {
            "needs_background": "light"
          }
        }
      ]
    },
    {
      "cell_type": "code",
      "metadata": {
        "colab": {
          "base_uri": "https://localhost:8080/",
          "height": 0
        },
        "id": "4AktS9jKsSzD",
        "outputId": "85205f40-0a53-4b20-d2d2-f55f1b5b4b87"
      },
      "source": [
        "# 2016\n",
        "\n",
        "dat_train = pickle.load(open(DATA_PATH +'/trainX_2016.pkl','rb'))\n",
        "dat_test = pickle.load(open(DATA_PATH +'/testX_2016.pkl','rb'))\n",
        "\n",
        "# check if 2015 train and test set are the same\n",
        "df_diff = pd.concat([dat_train,dat_test]).drop_duplicates(keep=False)\n",
        "print(df_diff.shape, dat_train.shape, dat_test.shape)\n",
        "df_train = dat_train[['temp']]\n",
        "df_test = dat_test[['temp']]\n",
        "plt.plot(df_train.index, df_train.temp, df_test .index, df_test .temp)\n",
        "plt.show() "
      ],
      "execution_count": 4,
      "outputs": [
        {
          "output_type": "stream",
          "name": "stdout",
          "text": [
            "(5739, 51) (4417, 51) (1322, 51)\n"
          ]
        },
        {
          "output_type": "display_data",
          "data": {
            "image/png": "[encoded data removed]",
            "text/plain": [
              "<Figure size 432x288 with 1 Axes>"
            ]
          },
          "metadata": {
            "needs_background": "light"
          }
        }
      ]
    },
    {
      "cell_type": "code",
      "metadata": {
        "colab": {
          "base_uri": "https://localhost:8080/",
          "height": 0
        },
        "id": "6oSRZIdgpvkw",
        "outputId": "d9966922-08bd-4812-998d-29a36b3db1c0"
      },
      "source": [
        "# 2017\n",
        "\n",
        "dat_train = pickle.load(open(DATA_PATH +'/trainX_2017.pkl','rb'))\n",
        "dat_test = pickle.load(open(DATA_PATH +'/testX_2017.pkl','rb'))\n",
        "\n",
        "# check if train and test set are the same, and visualize temp values\n",
        "df_diff = pd.concat([dat_train,dat_test]).drop_duplicates(keep=False)\n",
        "print(df_diff.shape, dat_train.shape, dat_test.shape)\n",
        "df_train = dat_train[['temp']]\n",
        "df_test = dat_test[['temp']]\n",
        "plt.plot(df_train.index, df_train.temp, df_test .index, df_test .temp)\n",
        "plt.show() "
      ],
      "execution_count": 5,
      "outputs": [
        {
          "output_type": "stream",
          "name": "stdout",
          "text": [
            "(6579, 51) (5028, 51) (1551, 51)\n"
          ]
        },
        {
          "output_type": "display_data",
          "data": {
            "image/png": "[encoded data removed]",
            "text/plain": [
              "<Figure size 432x288 with 1 Axes>"
            ]
          },
          "metadata": {
            "needs_background": "light"
          }
        }
      ]
    },
    {
      "cell_type": "markdown",
      "metadata": {
        "id": "Jg-0q2wswNkq"
      },
      "source": [
        "## Restrict to time frames we want \n",
        "\n",
        "We want temperature data from all three summers, minus the smoky periods (smoke-affected days = when recorded incidences of regional forest fires)\n",
        "\n",
        "These are respectively the first two weeks of July 2015 and the first two weeks of August 2017"
      ]
    },
    {
      "cell_type": "code",
      "metadata": {
        "id": "Ijkgnpjn61zq"
      },
      "source": [
        "# 2015\n",
        "\n",
        "# get training set from another year (so complete for 2015)\n",
        "df_1 = pickle.load(open(DATA_PATH +'/trainX_2016.pkl','rb'))\n",
        "\n",
        "# keep only summer dates, e.g., June, July and August:\n",
        "remove_before = pd.to_datetime('2015-06-01')\n",
        "remove_after = pd.to_datetime('2015-08-31')\n",
        "df_2 = df_1.query('index >= @remove_before and index <= @remove_after')\n",
        "\n",
        "# drop smoke weeks (first two weeks July 2015) \n",
        "start_smoke = pd.to_datetime('2015-07-01')\n",
        "end_smoke = pd.to_datetime('2015-07-14')\n",
        "df_3 = df_2.query('index < @start_smoke or index > @end_smoke')\n",
        "\n",
        "# save 2015 outdoor temps (x variable)\n",
        "df_2015_X = df_3[['temp']]"
      ],
      "execution_count": 6,
      "outputs": []
    },
    {
      "cell_type": "code",
      "metadata": {
        "id": "z5v_-qcrYCqn"
      },
      "source": [
        "# 2016 \n",
        "\n",
        "# get training set from another year (so complete for 2016)\n",
        "df_1 = pickle.load(open(DATA_PATH +'/trainX_2017.pkl','rb'))\n",
        "\n",
        "# keep only summer dates, e.g., June, July and August:\n",
        "remove_before = pd.to_datetime('2016-06-01')\n",
        "remove_after = pd.to_datetime('2016-08-31')\n",
        "df_2 = df_1.query('index >= @remove_before and index <= @remove_after')\n",
        "\n",
        "# save 2016 outdoor temps (x variable)\n",
        "df_2016_X = df_2[['temp']]"
      ],
      "execution_count": 7,
      "outputs": []
    },
    {
      "cell_type": "code",
      "metadata": {
        "id": "bAfyy04v_R7X"
      },
      "source": [
        "# 2017\n",
        "\n",
        "# get training set from another year (so complete for 2017)\n",
        "df_1 = pickle.load(open(DATA_PATH +'/trainX_2015.pkl','rb'))\n",
        "\n",
        "# keep only summer dates, e.g., June, July and August:\n",
        "remove_before = pd.to_datetime('2017-06-01')\n",
        "remove_after = pd.to_datetime('2017-08-31')\n",
        "df_2 = df_1.query('index >= @remove_before and index <= @remove_after')\n",
        "\n",
        "# drop smoke weeks (first two weeks July 2015) \n",
        "start_smoke = pd.to_datetime('2017-08-01')\n",
        "end_smoke = pd.to_datetime('2017-07-14')\n",
        "df_3 = df_2.query('index < @start_smoke or index > @end_smoke')\n",
        "\n",
        "# save 2017 outdoor temps (x variable)\n",
        "df_2017_X = df_3[['temp']]"
      ],
      "execution_count": 8,
      "outputs": []
    },
    {
      "cell_type": "code",
      "metadata": {
        "colab": {
          "base_uri": "https://localhost:8080/",
          "height": 264
        },
        "id": "m0E6kQnz_pN7",
        "outputId": "d2325740-d4e0-4762-c01f-c229b7114379"
      },
      "source": [
        "# plot all outdoor temperatures in cleaned dataset\n",
        "plt.plot(df_2015_X.index, df_2015_X.temp, df_2016_X.index, df_2016_X.temp, df_2017_X.index, df_2017_X.temp) \n",
        "plt.show() \n",
        "\n",
        "# save a single dataset with all days\n",
        "ls_X = [df_2015_X, df_2016_X, df_2017_X]  \n",
        "df_all_X = pd.concat(ls_X)"
      ],
      "execution_count": 9,
      "outputs": [
        {
          "output_type": "display_data",
          "data": {
            "image/png": "[encoded data removed]",
            "text/plain": [
              "<Figure size 432x288 with 1 Axes>"
            ]
          },
          "metadata": {
            "needs_background": "light"
          }
        }
      ]
    },
    {
      "cell_type": "markdown",
      "metadata": {
        "id": "Oaovum2mB39U"
      },
      "source": [
        "## GET INDOOR AIR TEMPERATURES FOR SAME TIME SPANS"
      ]
    },
    {
      "cell_type": "code",
      "metadata": {
        "id": "0wMf2PSmB9by"
      },
      "source": [
        "#Get raw data of indoor air temps (what we want to predict) \n",
        "\n",
        "df1 = pickle.load(open(DATA_PATH +'/trainY_2015.pkl','rb'))\n",
        "df2 = pickle.load(open(DATA_PATH +'/trainY_2016.pkl','rb'))\n",
        "df3 = pickle.load(open(DATA_PATH +'/trainY_2017.pkl','rb'))\n",
        "\n",
        "\n",
        "# Put in all in one place \n",
        "ls_Y = [df1, df2, df3]  \n",
        "df_Y = pd.concat(ls_Y)\n",
        "\n",
        "# Drop duplicated date-times\n",
        "\n",
        "df_Y = df_Y[~df_Y.index.duplicated(keep='first')]\n",
        "\n",
        "# Drop date-times not in X set\n",
        "df_all_Y = df_Y[df_Y.index.isin(df_all_X.index)]"
      ],
      "execution_count": 10,
      "outputs": []
    },
    {
      "cell_type": "markdown",
      "metadata": {
        "id": "0ICisOYGKIzA"
      },
      "source": [
        "## Plot X and Y variables"
      ]
    },
    {
      "cell_type": "code",
      "metadata": {
        "colab": {
          "base_uri": "https://localhost:8080/",
          "height": 264
        },
        "id": "M53g3iJhJczi",
        "outputId": "88352156-9a0e-4e1d-d5df-3d7f282ad2e2"
      },
      "source": [
        "# plot Outdoor (X values) and Indoor (to be predicted)\n",
        "plt.plot(df_all_X.index, df_all_X.temp, df_all_Y.index, df_all_Y) \n",
        "plt.show() # Note LSTM assumes the book ends of a gap are adjacent, so it's good to see that there are no sharp changes over the gaps"
      ],
      "execution_count": 11,
      "outputs": [
        {
          "output_type": "display_data",
          "data": {
            "image/png": "[encoded data removed]",
            "text/plain": [
              "<Figure size 432x288 with 1 Axes>"
            ]
          },
          "metadata": {
            "needs_background": "light"
          }
        }
      ]
    },
    {
      "cell_type": "markdown",
      "metadata": {
        "id": "nSl76bU4f0l1"
      },
      "source": [
        "## Add feature for time of day and transform variables"
      ]
    },
    {
      "cell_type": "markdown",
      "metadata": {
        "id": "GcgO__MkZWFO"
      },
      "source": [
        "This step adds a variable to help the model understand the cyclicity of the 24 hours cycle\n",
        "It borrows from the tutorial provided here: https://towardsdatascience.com/single-and-multi-step-temperature-time-series-forecasting-for-vilnius-using-lstm-deep-learning-b9719a0009de\n",
        "\n",
        "We want the machine to know that hours 23 and 0 are closer to each other than hours 0 and 4. We know that the period of the cycle is 24 hours. We can use the cos(x) and sin(x) functions. The x in the functions is the hour of the day."
      ]
    },
    {
      "cell_type": "code",
      "metadata": {
        "id": "seFBtHHEY8c3"
      },
      "source": [
        "# Extract the hour of day\n",
        "df_all_X[\"hour\"] = df_all_X.index.hour\n",
        "# Creating the cyclical daily feature \n",
        "df_all_X[\"day_cos\"] = [np.cos(x * (2 * np.pi / 24)) for x in df_all_X[\"hour\"]]\n",
        "df_all_X[\"day_sin\"] = [np.sin(x * (2 * np.pi / 24)) for x in df_all_X[\"hour\"]]"
      ],
      "execution_count": null,
      "outputs": []
    },
    {
      "cell_type": "markdown",
      "metadata": {
        "id": "EBojwEmyKqV7"
      },
      "source": [
        "# the most basic LSTM Model (one time step, no scaling, one feature)\n",
        "\n",
        "Note: The following model was created with a lot of help from the following tutorial by Otabek Yorkinov:\n",
        "\n",
        "https://www.datatechnotes.com/2019/12/multi-output-regression-example-with_24.html\n"
      ]
    },
    {
      "cell_type": "markdown",
      "metadata": {
        "id": "-qT0K3b9PhA0"
      },
      "source": [
        "## Set up a model with one input and one output\n"
      ]
    },
    {
      "cell_type": "code",
      "metadata": {
        "colab": {
          "base_uri": "https://localhost:8080/"
        },
        "id": "9IHRI35pPoQ3",
        "outputId": "f7180bad-6058-4376-cd80-e40fefddebf7"
      },
      "source": [
        "x = df_all_X.copy().to_numpy()\n",
        "y = df_all_Y.copy().to_numpy()\n",
        "\n",
        "# The LSTM model input dimension requires the third dimension that will be the number of the single input row. We'll reshape the x data.\n",
        "print(\"X before:\", x.shape)\n",
        "\n",
        "x = x.reshape(x.shape[0], x.shape[1], 1)\n",
        "y = y.reshape(y.shape[0], 1)\n",
        "\n",
        "print(\"X after:\", x.shape, \"y:\", y.shape)\n",
        " \n",
        "\n",
        "# define the input and output data dimensions from x and data.\n",
        "\n",
        "in_dim = (x.shape[1], x.shape[2])\n",
        "out_dim = y.shape[1]\n",
        " \n",
        "print(in_dim)\n",
        "print(out_dim)\n",
        " \n",
        "# split the data into the train and test parts.\n",
        "\n",
        "xtrain, xtest, ytrain, ytest=train_test_split(x, y, test_size=0.15)"
      ],
      "execution_count": null,
      "outputs": [
        {
          "output_type": "stream",
          "name": "stdout",
          "text": [
            "X before: (4632, 1)\n",
            "X after: (4632, 1, 1) y: (4632, 1)\n",
            "(1, 1)\n",
            "1\n"
          ]
        }
      ]
    },
    {
      "cell_type": "markdown",
      "metadata": {
        "id": "CPpoLCM1SFg1"
      },
      "source": [
        "## Define and fit the model"
      ]
    },
    {
      "cell_type": "code",
      "metadata": {
        "colab": {
          "base_uri": "https://localhost:8080/"
        },
        "id": "kHLPqJBHPowi",
        "outputId": "06a316b9-abcc-4e4c-fe83-3d07b6435f52"
      },
      "source": [
        "# Define\n",
        "model = Sequential()\n",
        "model.add(LSTM(64, input_shape=in_dim, activation=\"relu\"))\n",
        "model.add(Dense(out_dim))\n",
        "model.compile(loss=\"mse\", optimizer=\"adam\") \n",
        " \n",
        "model.summary()"
      ],
      "execution_count": null,
      "outputs": [
        {
          "output_type": "stream",
          "name": "stdout",
          "text": [
            "Model: \"sequential\"\n",
            "_________________________________________________________________\n",
            "Layer (type)                 Output Shape              Param #   \n",
            "=================================================================\n",
            "lstm (LSTM)                  (None, 64)                16896     \n",
            "_________________________________________________________________\n",
            "dense (Dense)                (None, 1)                 65        \n",
            "=================================================================\n",
            "Total params: 16,961\n",
            "Trainable params: 16,961\n",
            "Non-trainable params: 0\n",
            "_________________________________________________________________\n"
          ]
        }
      ]
    },
    {
      "cell_type": "code",
      "metadata": {
        "colab": {
          "base_uri": "https://localhost:8080/"
        },
        "id": "WZL6bPboSnZv",
        "outputId": "7c248636-acdb-4959-c22c-f000c0f60447"
      },
      "source": [
        "# Fit using the training set\n",
        "\n",
        "model.fit(xtrain, ytrain, epochs=100, batch_size=12, verbose=0)"
      ],
      "execution_count": null,
      "outputs": [
        {
          "output_type": "execute_result",
          "data": {
            "text/plain": [
              "<keras.callbacks.History at 0x7f2914858a10>"
            ]
          },
          "metadata": {},
          "execution_count": 119
        }
      ]
    },
    {
      "cell_type": "markdown",
      "metadata": {
        "id": "OTqQdGmKSeXR"
      },
      "source": [
        "## Check the predictions\n",
        "\n",
        "Predict test data and check the mean squared error rate"
      ]
    },
    {
      "cell_type": "code",
      "metadata": {
        "colab": {
          "base_uri": "https://localhost:8080/"
        },
        "id": "lMemFCP-Shsf",
        "outputId": "fafe943e-d922-4f9e-e520-a4d660af4ac1"
      },
      "source": [
        "ypred = model.predict(xtest)\n",
        " \n",
        "print(\"Y MSE:%.4f\" % mean_squared_error(ytest[:,0], ypred[:,0]))\n"
      ],
      "execution_count": null,
      "outputs": [
        {
          "output_type": "stream",
          "name": "stdout",
          "text": [
            "Y MSE:2.2183\n"
          ]
        }
      ]
    },
    {
      "cell_type": "code",
      "metadata": {
        "colab": {
          "base_uri": "https://localhost:8080/",
          "height": 281
        },
        "id": "A6bffsT0TFkq",
        "outputId": "32d87ed0-dd35-40e6-9408-184a163fafca"
      },
      "source": [
        "# Visualize Results\n",
        "\n",
        "x_ax = range(len(xtest))\n",
        "plt.title(\"LSTM indoor air temperature prediction\")\n",
        "plt.scatter(x_ax, ytest[:,0],  s=6, label=\"indoor-test\")\n",
        "plt.plot(x_ax, ypred[:,0], label=\"indoor-pred\")\n",
        "plt.scatter(x_ax, xtest[:,0],  s=6, label=\"outdoor\")\n",
        " \n",
        "plt.legend()\n",
        "plt.show()"
      ],
      "execution_count": null,
      "outputs": [
        {
          "output_type": "display_data",
          "data": {
            "image/png": "[encoded data removed]",
            "text/plain": [
              "<Figure size 432x288 with 1 Axes>"
            ]
          },
          "metadata": {
            "needs_background": "light"
          }
        }
      ]
    },
    {
      "cell_type": "code",
      "metadata": {
        "id": "2CEwFbUQTFWV"
      },
      "source": [
        ""
      ],
      "execution_count": null,
      "outputs": []
    },
    {
      "cell_type": "markdown",
      "metadata": {
        "id": "vQia6BLyVI5n"
      },
      "source": [
        "# A bidirectional and multi-step LSTM model\n",
        "\n",
        "Some of the steps for making and fitting this model follow the tutorial found here: \n",
        "https://towardsdatascience.com/predictive-analysis-rnn-lstm-and-gru-to-predict-water-consumption-e6bb3c2b4b02"
      ]
    },
    {
      "cell_type": "markdown",
      "metadata": {
        "id": "DX64sYj2gCiH"
      },
      "source": [
        "Pre-processing to setup model: Split training/test sets then scale the data"
      ]
    },
    {
      "cell_type": "code",
      "metadata": {
        "colab": {
          "base_uri": "https://localhost:8080/"
        },
        "id": "eRcvJAhyVNKH",
        "outputId": "9baaf7cb-24a6-430f-9f70-72831b0b21dc"
      },
      "source": [
        "x = df_all_X.copy().to_numpy()\n",
        "y = df_all_Y.copy().to_numpy()\n",
        " \n",
        "# split the data into the train and test parts.\n",
        "xtrain, xtest, ytrain, ytest = train_test_split(x, y, test_size= 0.15)\n",
        " \n",
        "train_dim = (xtrain.shape, ytrain.shape)\n",
        "test_dim = (xtest.shape, ytest.shape)\n",
        "print(\"train_dim:\", train_dim)\n",
        "print(\"test_dim\", test_dim)\n",
        "\n",
        " "
      ],
      "execution_count": 21,
      "outputs": [
        {
          "output_type": "stream",
          "name": "stdout",
          "text": [
            "train_dim: ((3937, 4), (3937,))\n",
            "test_dim ((695, 4), (695,))\n"
          ]
        }
      ]
    }
  ]
}