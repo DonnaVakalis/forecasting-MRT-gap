{
  "nbformat": 4,
  "nbformat_minor": 0,
  "metadata": {
    "colab": {
      "name": "model_BiLSTM_MSLE.ipynb",
      "provenance": [],
      "collapsed_sections": [
        "qcswMBseoYZR",
        "CJS4khlBBodr",
        "9Gi4O9iC5fmn",
        "Oaovum2mB39U",
        "0ICisOYGKIzA",
        "nSl76bU4f0l1"
      ],
      "authorship_tag": "ABX9TyMaLulh/ZNFRp3DKxKRrAX+",
      "include_colab_link": true
    },
    "kernelspec": {
      "name": "python3",
      "display_name": "Python 3"
    },
    "language_info": {
      "name": "python"
    }
  },
  "cells": [
    {
      "cell_type": "markdown",
      "metadata": {
        "id": "view-in-github",
        "colab_type": "text"
      },
      "source": [
        "<a href=\"https://colab.research.google.com/github/DonnaVakalis/forecasting-MRT-gap/blob/main/model/model_BiLSTM_MSLE.ipynb\" target=\"_parent\"><img src=\"https://colab.research.google.com/assets/colab-badge.svg\" alt=\"Open In Colab\"/></a>"
      ]
    },
    {
      "cell_type": "markdown",
      "metadata": {
        "id": "PotS_WG4C0bC"
      },
      "source": [
        "# PREAMBLE (ABOUT THIS NOTEBOOK)"
      ]
    },
    {
      "cell_type": "markdown",
      "metadata": {
        "id": "_gBDZLPtC7VV"
      },
      "source": [
        "This notebook applies data prediction with Keras LSTM model in Python, on time series (hourly) weather data to predict daily thermal comfort exceedances indoors (e.g., when it gets too hot, and by how much). While this notebook contains only the first steps, ultimately it can help determine how much cooling is needed (in terms of mean radiant temperature or MRT), and ultimately help decide on which cooling technologies are feasible and most carbon efficient."
      ]
    },
    {
      "cell_type": "markdown",
      "metadata": {
        "id": "7TblImSlCdcM"
      },
      "source": [
        "# SETUP AND IMPORTS"
      ]
    },
    {
      "cell_type": "code",
      "metadata": {
        "colab": {
          "base_uri": "https://localhost:8080/"
        },
        "id": "h4uWABiYwGMt",
        "outputId": "ba57bef9-b2d1-4222-9562-8a53dfa9945d"
      },
      "source": [
        "# first install requests, for importing libraries from github\n",
        "!pip install requests"
      ],
      "execution_count": 1,
      "outputs": [
        {
          "output_type": "stream",
          "name": "stdout",
          "text": [
            "Requirement already satisfied: requests in /usr/local/lib/python3.7/dist-packages (2.23.0)\n",
            "Requirement already satisfied: certifi>=2017.4.17 in /usr/local/lib/python3.7/dist-packages (from requests) (2021.5.30)\n",
            "Requirement already satisfied: chardet<4,>=3.0.2 in /usr/local/lib/python3.7/dist-packages (from requests) (3.0.4)\n",
            "Requirement already satisfied: idna<3,>=2.5 in /usr/local/lib/python3.7/dist-packages (from requests) (2.10)\n",
            "Requirement already satisfied: urllib3!=1.25.0,!=1.25.1,<1.26,>=1.21.1 in /usr/local/lib/python3.7/dist-packages (from requests) (1.24.3)\n"
          ]
        }
      ]
    },
    {
      "cell_type": "markdown",
      "metadata": {
        "id": "0fHyFFZ2svZc"
      },
      "source": [
        "Import pre-packaged libraries"
      ]
    },
    {
      "cell_type": "code",
      "metadata": {
        "id": "GqrUpMCWCcCi"
      },
      "source": [
        "import requests\n",
        "import os\n",
        "import sys\n",
        "from google.colab import drive\n",
        "import pickle\n",
        "import glob\n",
        "import numpy as np\n",
        "import pandas as pd\n",
        "\n",
        "from tensorflow.keras import layers\n",
        "from tensorflow import keras \n",
        "import tensorflow as tf\\\n",
        "\n",
        "import torch # for custom loss function\n",
        "\n",
        "from keras.models import Sequential\n",
        "from keras.layers import LSTM, Dense, Bidirectional \n",
        "\n",
        "from numpy import array\n",
        "\n",
        "import matplotlib.pyplot as plt\n",
        "\n",
        "from sklearn.model_selection import train_test_split\n",
        "from sklearn.preprocessing import MinMaxScaler\n",
        "from sklearn.metrics import mean_squared_error\n",
        "\n"
      ],
      "execution_count": null,
      "outputs": []
    },
    {
      "cell_type": "markdown",
      "metadata": {
        "id": "R8N14VdVtYgr"
      },
      "source": [
        "Mount drive and set paths"
      ]
    },
    {
      "cell_type": "code",
      "metadata": {
        "colab": {
          "base_uri": "https://localhost:8080/"
        },
        "id": "ea4B0rT7tcvn",
        "outputId": "01745b48-9241-4180-a32a-c5b33d987470"
      },
      "source": [
        "# Point to the folder for this project (forecasting-MRT-gap/data)\n",
        "drive.mount('/content/gdrive')\n",
        "DATA_PATH = \"/content/gdrive/My Drive/Colab Notebooks/forecasting-MRT-gap/data\"\n",
        "FIGURES_PATH = \"/content/gdrive/My Drive/Colab Notebooks/forecasting-MRT-gap/figures\"\n",
        "#LOSS_PATH = \"/content/gdrive/My Drive/Colab Notebooks/forecasting-MRT-gap/loss\""
      ],
      "execution_count": 3,
      "outputs": [
        {
          "output_type": "stream",
          "name": "stdout",
          "text": [
            "Mounted at /content/gdrive\n"
          ]
        }
      ]
    },
    {
      "cell_type": "markdown",
      "metadata": {
        "id": "AAFXnOugCxQy"
      },
      "source": [
        "# LOAD + FILTER THE DATA\n"
      ]
    },
    {
      "cell_type": "markdown",
      "metadata": {
        "id": "VoRTvWQ-JxmY"
      },
      "source": [
        "The training and testing datasets were pre-processed in a separate notebook saved as separate pickles for 2015,2016 and 2017 (and separated by training and test and output variables based on a prior project) in this public repository:\n",
        "\n",
        "https://github.com/eta-lab/forecasting-comfort\n",
        "\n",
        "Details about methods from this project can be found here: Rysanek, A., Nuttall, R., McCarty, J, (2021). Forecasting the impact of climate change on thermal comfort using a weighted ensemble of supervised learning models. Building & Environment."
      ]
    },
    {
      "cell_type": "markdown",
      "metadata": {
        "id": "CJS4khlBBodr"
      },
      "source": [
        "## GET OUTDOOR AIR TEMPERATURES FOR SUMMER 2015, 2016 and 2017"
      ]
    },
    {
      "cell_type": "code",
      "metadata": {
        "colab": {
          "base_uri": "https://localhost:8080/",
          "height": 282
        },
        "id": "doivvZSBJv8T",
        "outputId": "71e77771-b54d-4cd8-a348-ce5585b958e0"
      },
      "source": [
        "# 2015\n",
        "\n",
        "dat_train = pickle.load(open(DATA_PATH +'/trainX_2015.pkl','rb'))\n",
        "dat_test = pickle.load(open(DATA_PATH +'/testX_2015.pkl','rb'))\n",
        "\n",
        "# check if train and test set are the same, and visualize temp values\n",
        "df_diff = pd.concat([dat_train,dat_test]).drop_duplicates(keep=False)\n",
        "print(df_diff.shape, dat_train.shape, dat_test.shape)\n",
        "df_train = dat_train[['temp']]\n",
        "df_test = dat_test[['temp']]\n",
        "plt.plot(df_train.index, df_train.temp, df_test .index, df_test .temp)\n",
        "plt.show() "
      ],
      "execution_count": 23,
      "outputs": [
        {
          "output_type": "stream",
          "name": "stdout",
          "text": [
            "(5781, 51) (4407, 51) (1374, 51)\n"
          ]
        },
        {
          "output_type": "display_data",
          "data": {
            "image/png": "[encoded data removed]",
            "text/plain": [
              "<Figure size 432x288 with 1 Axes>"
            ]
          },
          "metadata": {
            "needs_background": "light"
          }
        }
      ]
    },
    {
      "cell_type": "code",
      "metadata": {
        "colab": {
          "base_uri": "https://localhost:8080/",
          "height": 282
        },
        "id": "4AktS9jKsSzD",
        "outputId": "8ee2d401-f323-436c-c7c9-3fc4c5328750"
      },
      "source": [
        "# 2016\n",
        "\n",
        "dat_train = pickle.load(open(DATA_PATH +'/trainX_2016.pkl','rb'))\n",
        "dat_test = pickle.load(open(DATA_PATH +'/testX_2016.pkl','rb'))\n",
        "\n",
        "# check if 2015 train and test set are the same\n",
        "df_diff = pd.concat([dat_train,dat_test]).drop_duplicates(keep=False)\n",
        "print(df_diff.shape, dat_train.shape, dat_test.shape)\n",
        "df_train = dat_train[['temp']]\n",
        "df_test = dat_test[['temp']]\n",
        "plt.plot(df_train.index, df_train.temp, df_test .index, df_test .temp)\n",
        "plt.show() "
      ],
      "execution_count": 24,
      "outputs": [
        {
          "output_type": "stream",
          "name": "stdout",
          "text": [
            "(5739, 51) (4417, 51) (1322, 51)\n"
          ]
        },
        {
          "output_type": "display_data",
          "data": {
            "image/png": "[encoded data removed]",
            "text/plain": [
              "<Figure size 432x288 with 1 Axes>"
            ]
          },
          "metadata": {
            "needs_background": "light"
          }
        }
      ]
    },
    {
      "cell_type": "code",
      "metadata": {
        "colab": {
          "base_uri": "https://localhost:8080/",
          "height": 282
        },
        "id": "6oSRZIdgpvkw",
        "outputId": "6267a552-3e23-4f32-a4ef-2681f56eebc7"
      },
      "source": [
        "# 2017\n",
        "\n",
        "dat_train = pickle.load(open(DATA_PATH +'/trainX_2017.pkl','rb'))\n",
        "dat_test = pickle.load(open(DATA_PATH +'/testX_2017.pkl','rb'))\n",
        "\n",
        "# check if train and test set are the same, and visualize temp values\n",
        "df_diff = pd.concat([dat_train,dat_test]).drop_duplicates(keep=False)\n",
        "print(df_diff.shape, dat_train.shape, dat_test.shape)\n",
        "df_train = dat_train[['temp']]\n",
        "df_test = dat_test[['temp']]\n",
        "plt.plot(df_train.index, df_train.temp, df_test .index, df_test .temp)\n",
        "plt.show() "
      ],
      "execution_count": 25,
      "outputs": [
        {
          "output_type": "stream",
          "name": "stdout",
          "text": [
            "(6579, 51) (5028, 51) (1551, 51)\n"
          ]
        },
        {
          "output_type": "display_data",
          "data": {
            "image/png": "[encoded data removed]",
            "text/plain": [
              "<Figure size 432x288 with 1 Axes>"
            ]
          },
          "metadata": {
            "needs_background": "light"
          }
        }
      ]
    },
    {
      "cell_type": "markdown",
      "metadata": {
        "id": "9Gi4O9iC5fmn"
      },
      "source": [
        "## PRE-PROCESS THE X (INPUT VARIABLE) DATA"
      ]
    },
    {
      "cell_type": "markdown",
      "metadata": {
        "id": "Xto7qFE1Xy9X"
      },
      "source": [
        "For each year 2015,2016,2017, examine temperature data (outdoor) and prepare to remerge training/test sets (for dynamically selecting training/testing sets from whole)"
      ]
    },
    {
      "cell_type": "markdown",
      "metadata": {
        "id": "Jg-0q2wswNkq"
      },
      "source": [
        "### Restrict to time frames we want \n",
        "\n",
        "We want temperature data from all three summers, minus the smoky periods (smoke-affected days = when recorded incidences of regional forest fires)\n",
        "\n",
        "These are respectively the first two weeks of July 2015 and the first two weeks of August 2017"
      ]
    },
    {
      "cell_type": "code",
      "metadata": {
        "id": "Ijkgnpjn61zq"
      },
      "source": [
        "# 2015\n",
        "\n",
        "# get training set from another year (so complete for 2015)\n",
        "df_1 = pickle.load(open(DATA_PATH +'/trainX_2016.pkl','rb'))\n",
        "\n",
        "# keep only summer dates, e.g., June, July and August:\n",
        "remove_before = pd.to_datetime('2015-06-01')\n",
        "remove_after = pd.to_datetime('2015-08-31')\n",
        "df_2 = df_1.query('index >= @remove_before and index <= @remove_after')\n",
        "\n",
        "# drop smoke weeks (first two weeks July 2015) \n",
        "start_smoke = pd.to_datetime('2015-07-01')\n",
        "end_smoke = pd.to_datetime('2015-07-14')\n",
        "df_3 = df_2.query('index < @start_smoke or index > @end_smoke')\n",
        "\n",
        "# save 2015 outdoor temps (x variable)\n",
        "df_2015_X = df_3[['temp']]"
      ],
      "execution_count": 26,
      "outputs": []
    },
    {
      "cell_type": "code",
      "metadata": {
        "id": "z5v_-qcrYCqn"
      },
      "source": [
        "# 2016 \n",
        "\n",
        "# get training set from another year (so complete for 2016)\n",
        "df_1 = pickle.load(open(DATA_PATH +'/trainX_2017.pkl','rb'))\n",
        "\n",
        "# keep only summer dates, e.g., June, July and August:\n",
        "remove_before = pd.to_datetime('2016-06-01')\n",
        "remove_after = pd.to_datetime('2016-08-31')\n",
        "df_2 = df_1.query('index >= @remove_before and index <= @remove_after')\n",
        "\n",
        "# save 2016 outdoor temps (x variable)\n",
        "df_2016_X = df_2[['temp']]"
      ],
      "execution_count": 27,
      "outputs": []
    },
    {
      "cell_type": "code",
      "metadata": {
        "id": "bAfyy04v_R7X"
      },
      "source": [
        "# 2017\n",
        "\n",
        "# get training set from another year (so complete for 2017)\n",
        "df_1 = pickle.load(open(DATA_PATH +'/trainX_2015.pkl','rb'))\n",
        "\n",
        "# keep only summer dates, e.g., June, July and August:\n",
        "remove_before = pd.to_datetime('2017-06-01')\n",
        "remove_after = pd.to_datetime('2017-08-31')\n",
        "df_2 = df_1.query('index >= @remove_before and index <= @remove_after')\n",
        "\n",
        "# drop smoke weeks (first two weeks July 2015) \n",
        "start_smoke = pd.to_datetime('2017-08-01')\n",
        "end_smoke = pd.to_datetime('2017-07-14')\n",
        "df_3 = df_2.query('index < @start_smoke or index > @end_smoke')\n",
        "\n",
        "# save 2017 outdoor temps (x variable)\n",
        "df_2017_X = df_3[['temp']]"
      ],
      "execution_count": 28,
      "outputs": []
    },
    {
      "cell_type": "code",
      "metadata": {
        "colab": {
          "base_uri": "https://localhost:8080/",
          "height": 264
        },
        "id": "m0E6kQnz_pN7",
        "outputId": "90464eea-0caf-43b8-d3d4-b8a7b74e957b"
      },
      "source": [
        "# plot all outdoor temperatures in cleaned dataset\n",
        "plt.plot(df_2015_X.index, df_2015_X.temp, df_2016_X.index, df_2016_X.temp, df_2017_X.index, df_2017_X.temp) \n",
        "plt.show() \n",
        "\n",
        "# save a single dataset with all days\n",
        "ls_X = [df_2015_X, df_2016_X, df_2017_X]  \n",
        "df_all_X = pd.concat(ls_X)"
      ],
      "execution_count": 33,
      "outputs": [
        {
          "output_type": "display_data",
          "data": {
            "image/png": "[encoded data removed]",
            "text/plain": [
              "<Figure size 432x288 with 1 Axes>"
            ]
          },
          "metadata": {
            "needs_background": "light"
          }
        }
      ]
    },
    {
      "cell_type": "markdown",
      "metadata": {
        "id": "Oaovum2mB39U"
      },
      "source": [
        "## GET INDOOR AIR TEMPERATURES (OUTPUT VARIABLE) FOR SAME TIME SPANS"
      ]
    },
    {
      "cell_type": "code",
      "metadata": {
        "id": "0wMf2PSmB9by"
      },
      "source": [
        "#Get raw data of indoor air temps (what we want to predict) \n",
        "\n",
        "df1 = pickle.load(open(DATA_PATH +'/trainY_2015.pkl','rb'))\n",
        "df2 = pickle.load(open(DATA_PATH +'/trainY_2016.pkl','rb'))\n",
        "df3 = pickle.load(open(DATA_PATH +'/trainY_2017.pkl','rb'))\n",
        "\n",
        "\n",
        "# Put in all in one place \n",
        "ls_Y = [df1, df2, df3]  \n",
        "df_Y = pd.concat(ls_Y)\n",
        "\n",
        "# Drop duplicated date-times\n",
        "\n",
        "df_Y = df_Y[~df_Y.index.duplicated(keep='first')]\n",
        "\n",
        "# Drop date-times not in X set\n",
        "df_all_Y = df_Y[df_Y.index.isin(df_all_X.index)]"
      ],
      "execution_count": 30,
      "outputs": []
    },
    {
      "cell_type": "markdown",
      "metadata": {
        "id": "0ICisOYGKIzA"
      },
      "source": [
        "## Plot X and Y variables"
      ]
    },
    {
      "cell_type": "code",
      "metadata": {
        "colab": {
          "base_uri": "https://localhost:8080/",
          "height": 264
        },
        "id": "M53g3iJhJczi",
        "outputId": "5d1aa1fb-4fdd-4340-8b6f-fe83965137fb"
      },
      "source": [
        "# plot Outdoor (X values) and Indoor (to be predicted)\n",
        "plt.plot(df_all_X.index, df_all_X.temp, df_all_Y.index, df_all_Y) \n",
        "plt.show() # Note LSTM assumes the book ends of a gap are adjacent, so it's good to see that there are no sharp changes over the gaps"
      ],
      "execution_count": 34,
      "outputs": [
        {
          "output_type": "display_data",
          "data": {
            "image/png": "[encoded data removed]",
            "text/plain": [
              "<Figure size 432x288 with 1 Axes>"
            ]
          },
          "metadata": {
            "needs_background": "light"
          }
        }
      ]
    },
    {
      "cell_type": "markdown",
      "metadata": {
        "id": "nSl76bU4f0l1"
      },
      "source": [
        "## Add feature for time of day and transform variables"
      ]
    },
    {
      "cell_type": "markdown",
      "metadata": {
        "id": "GcgO__MkZWFO"
      },
      "source": [
        "This step adds a variable to help the model understand the cyclicity of the 24 hours cycle\n",
        "It borrows from the tutorial provided here: https://towardsdatascience.com/single-and-multi-step-temperature-time-series-forecasting-for-vilnius-using-lstm-deep-learning-b9719a0009de\n",
        "\n",
        "We want the machine to know that hours 23 and 0 are closer to each other than hours 0 and 4. We know that the period of the cycle is 24 hours. We can use the cos(x) and sin(x) functions. The x in the functions is the hour of the day."
      ]
    },
    {
      "cell_type": "code",
      "metadata": {
        "id": "seFBtHHEY8c3"
      },
      "source": [
        "# Extract the hour of day\n",
        "df_all_X[\"hour\"] = df_all_X.index.hour\n",
        "# Creating the cyclical daily feature \n",
        "df_all_X[\"day_cos\"] = [np.cos(x * (2 * np.pi / 24)) for x in df_all_X[\"hour\"]]\n",
        "df_all_X[\"day_sin\"] = [np.sin(x * (2 * np.pi / 24)) for x in df_all_X[\"hour\"]]"
      ],
      "execution_count": 32,
      "outputs": []
    },
    {
      "cell_type": "markdown",
      "metadata": {
        "id": "vQia6BLyVI5n"
      },
      "source": [
        "# BiLSTM MODEL with Logarithmic Mean Squared Error\n",
        "\n",
        "The idea of Bidirectional LSTMs (BiSTM) is to use input information from both the past and future of a specific time step.\n",
        "\n",
        "Some of the steps for making and fitting this model follow the tutorial found here: \n",
        "https://towardsdatascience.com/predictive-analysis-rnn-lstm-and-gru-to-predict-water-consumption-\n"
      ]
    },
    {
      "cell_type": "markdown",
      "metadata": {
        "id": "DX64sYj2gCiH"
      },
      "source": [
        "### Pre-processing to setup model: Split training/test sets, scale the data, shape the 3D matrix for feeding into the model\n",
        "\n",
        "Note: for this type of time-step depending analysis, make sure training/test split shuffle is set to False (i.e., keep continguous chunks for training and testing)"
      ]
    },
    {
      "cell_type": "code",
      "metadata": {
        "colab": {
          "base_uri": "https://localhost:8080/"
        },
        "id": "eRcvJAhyVNKH",
        "outputId": "888e38f7-6cfa-473c-b0ba-a6c17048c748"
      },
      "source": [
        "x = df_all_X.copy().to_numpy()\n",
        "y = df_all_Y.copy().to_numpy()\n",
        "\n",
        "# need to reshape Y which contains 1 features (currently it's 0) \n",
        "y = y.reshape(-1, 1)\n",
        " \n",
        "# split the data into the train and test parts.\n",
        "# NB split should not be a random selection... (shuffle=False)\n",
        "X_train, X_test, Y_train, Y_test = train_test_split(x, y, shuffle = False, test_size= 0.15)\n",
        " \n",
        "train_dim = (X_train.shape, Y_train.shape)\n",
        "test_dim = (X_test.shape, Y_test.shape)\n",
        "\n",
        "# check\n",
        "print(\"train_dim Xs and Y:\", train_dim)\n",
        "print(\"test_dim Xs and Y\", test_dim)\n",
        "\n",
        "#Scale and center the data:\n",
        "#1) variables are better to be small values, probably in the range of 0-1.\n",
        "#2) want the scale of the output variable is in the range 0-1 to match the scale of the activation function (tanh) on the output layer \n",
        "\n",
        "# Fit the scaler with training data (used MinMaxScaler from sklearn)\n",
        "scaler_x = MinMaxScaler(feature_range = (0,1)) \n",
        "scaler_y = MinMaxScaler(feature_range = (0,1))\n",
        "\n",
        "# Fit the scaler using available training data\n",
        "input_scaler = scaler_x.fit(X_train)\n",
        "output_scaler = scaler_y.fit(Y_train)\n",
        "\n",
        "# Apply the scaler to training data\n",
        "train_y_norm = output_scaler.transform(Y_train)\n",
        "train_x_norm = input_scaler.transform(X_train)\n",
        "\n",
        "# Apply the scaler to test data\n",
        "#NB: we should scale the unseen tes data with the scaler fitted on the training data.\n",
        "test_y_norm = output_scaler.transform(Y_test)\n",
        "test_x_norm = input_scaler.transform(X_test)"
      ],
      "execution_count": 40,
      "outputs": [
        {
          "output_type": "stream",
          "name": "stdout",
          "text": [
            "train_dim Xs and Y: ((3937, 1), (3937, 1))\n",
            "test_dim Xs and Y ((695, 1), (695, 1))\n"
          ]
        }
      ]
    },
    {
      "cell_type": "markdown",
      "metadata": {
        "id": "oqZqxqfdoScR"
      },
      "source": [
        "Create a 3D Input Dataset\n",
        "\n",
        "This involves setting the 'time steps', which in this case will be the previous 48 hours"
      ]
    },
    {
      "cell_type": "code",
      "metadata": {
        "colab": {
          "base_uri": "https://localhost:8080/"
        },
        "id": "c9eL9ZbkoUeu",
        "outputId": "c966baa4-abf3-4989-c08b-c76e99af9e70"
      },
      "source": [
        "#Default is one day back and one day forward\n",
        "def create_dataset (X, y, time_steps = 24): \n",
        "    Xs, ys = [], []\n",
        "    \n",
        "    for i in range(len(X)-time_steps):\n",
        "        v = X[i:i+time_steps, :]\n",
        "        Xs.append(v)\n",
        "        ys.append(y[i+time_steps])\n",
        "        \n",
        "    return np.array(Xs), np.array(ys)\n",
        "\n",
        "\n",
        "TIME_STEPS = 48 # previous and next two days' weather\n",
        "\n",
        "X_test, Y_test = create_dataset(test_x_norm, test_y_norm, TIME_STEPS)\n",
        "X_train, Y_train = create_dataset(train_x_norm, train_y_norm, TIME_STEPS)\n",
        "print('X_train.shape: ', X_train.shape)\n",
        "print('Y_train.shape: ', Y_train.shape)\n",
        "print('X_test.shape: ', X_test.shape) \n",
        "print('Y_test.shape: ', Y_test.shape)"
      ],
      "execution_count": 41,
      "outputs": [
        {
          "output_type": "stream",
          "name": "stdout",
          "text": [
            "X_train.shape:  (3889, 48, 1)\n",
            "Y_train.shape:  (3889, 1)\n",
            "X_test.shape:  (647, 48, 1)\n",
            "Y_test.shape:  (647, 1)\n"
          ]
        }
      ]
    },
    {
      "cell_type": "markdown",
      "metadata": {
        "id": "1PTx0Gw-ryR6"
      },
      "source": [
        "## Create the BiLSTM model with special loss functiom\n",
        "\n",
        "The 'Bidirectional' wrapper will create two copies of the hidden layer, one fit in the input sequences as-is and one on a reversed copy of the input sequence. By default, the output values from these LSTMs will be concatenated.\n",
        "\n",
        "That means that instead of the TimeDistributed layer receiving 48 timesteps of X HIDDEN_LAYER units, it will now receive 48 timesteps of 2*X HIDDEN_LAYER units (X units + X units) outputs.\n",
        "\n",
        "\n",
        "For the loss function, given the sharpness of our data, we want to relax the punishing effect of large differences in large predicted values. Therefore, instead of the default MSE, we will use Mean Squared Logarithmic Error loss, or MSLE: this calculates the natural logarithm of each of the predicted values, then calculate the mean squared error.  \n"
      ]
    },
    {
      "cell_type": "code",
      "metadata": {
        "id": "35TxUo7en1Bn"
      },
      "source": [
        "# Create the BiLSTM model\n",
        "\n",
        "def create_model_bilstm(units):\n",
        "    model = Sequential()\n",
        "    # First layer of BiLSTM\n",
        "    model.add(Bidirectional(LSTM(units = units, return_sequences=True), input_shape=(X_train.shape[1], X_train.shape[2])))\n",
        "    # Second layer of BiLSTM\n",
        "    model.add(Bidirectional(LSTM(units = units)))\n",
        "    model.add(Dense(1))\n",
        "    #Compile model\n",
        "    model.compile(loss='mean_squared_logarithmic_error', optimizer= 'adam', metrics=['mse']) #change of loss  \n",
        "    return model\n",
        "\n",
        "# Choose the number of units (neurons) in hidden layers\n",
        "HIDDEN_LAYERS = 64\n",
        "model_bilstm = create_model_bilstm(HIDDEN_LAYERS)  "
      ],
      "execution_count": 42,
      "outputs": []
    },
    {
      "cell_type": "markdown",
      "metadata": {
        "id": "jIGCfV8otYOT"
      },
      "source": [
        "## Fit the model\n"
      ]
    },
    {
      "cell_type": "code",
      "metadata": {
        "colab": {
          "base_uri": "https://localhost:8080/",
          "height": 743
        },
        "id": "LAdxTA_3dAxZ",
        "outputId": "d1340f2a-097f-4130-a39f-3527c38a448a"
      },
      "source": [
        "# 10 epoch and batch_size = 64\n",
        "def fit_model(model):\n",
        "    early_stop = keras.callbacks.EarlyStopping(monitor = 'val_loss',\n",
        "                                               patience = 10)\n",
        "    # shuffle = False because the order of the data matters\n",
        "    # use 20% of train data as validation data \n",
        "    history = model.fit(X_train, Y_train, epochs = 10, validation_split = 0.2,\n",
        "                    batch_size = 64, shuffle = False, callbacks = [early_stop])\n",
        "    return history\n",
        "\n",
        "history= fit_model(model_bilstm)\n",
        "\n",
        "# Visualize the training loss versus validation loss\n",
        "plt.figure(figsize = (10, 6))\n",
        "plt.plot(history.history['loss'])\n",
        "plt.plot(history.history['val_loss'])\n",
        "\n",
        "plt.ylabel('Loss')\n",
        "plt.xlabel('epoch')\n",
        "plt.legend(['Train loss', 'Validation loss'], loc='upper right')\n",
        "plt.savefig(FIGURES_PATH + '/BiLSTM_loss_plot with training and test sets continguous' +'.jpg', format='jpg', dpi=1000)\n",
        "plt.show()"
      ],
      "execution_count": 43,
      "outputs": [
        {
          "output_type": "stream",
          "name": "stdout",
          "text": [
            "Epoch 1/10\n",
            "49/49 [==============================] - 14s 167ms/step - loss: 0.0205 - mse: 0.0470 - val_loss: 0.0107 - val_mse: 0.0274\n",
            "Epoch 2/10\n",
            "49/49 [==============================] - 7s 139ms/step - loss: 0.0122 - mse: 0.0301 - val_loss: 0.0115 - val_mse: 0.0297\n",
            "Epoch 3/10\n",
            "49/49 [==============================] - 7s 142ms/step - loss: 0.0105 - mse: 0.0259 - val_loss: 0.0113 - val_mse: 0.0292\n",
            "Epoch 4/10\n",
            "49/49 [==============================] - 7s 139ms/step - loss: 0.0098 - mse: 0.0240 - val_loss: 0.0112 - val_mse: 0.0288\n",
            "Epoch 5/10\n",
            "49/49 [==============================] - 7s 146ms/step - loss: 0.0093 - mse: 0.0229 - val_loss: 0.0111 - val_mse: 0.0286\n",
            "Epoch 6/10\n",
            "49/49 [==============================] - 7s 141ms/step - loss: 0.0090 - mse: 0.0221 - val_loss: 0.0111 - val_mse: 0.0285\n",
            "Epoch 7/10\n",
            "49/49 [==============================] - 7s 142ms/step - loss: 0.0088 - mse: 0.0214 - val_loss: 0.0110 - val_mse: 0.0284\n",
            "Epoch 8/10\n",
            "49/49 [==============================] - 9s 188ms/step - loss: 0.0086 - mse: 0.0210 - val_loss: 0.0110 - val_mse: 0.0284\n",
            "Epoch 9/10\n",
            "49/49 [==============================] - 7s 143ms/step - loss: 0.0084 - mse: 0.0206 - val_loss: 0.0110 - val_mse: 0.0284\n",
            "Epoch 10/10\n",
            "49/49 [==============================] - 7s 144ms/step - loss: 0.0083 - mse: 0.0202 - val_loss: 0.0111 - val_mse: 0.0284\n"
          ]
        },
        {
          "output_type": "display_data",
          "data": {
            "image/png": "[encoded data removed]",
            "text/plain": [
              "<Figure size 720x432 with 1 Axes>"
            ]
          },
          "metadata": {
            "needs_background": "light"
          }
        }
      ]
    },
    {
      "cell_type": "markdown",
      "metadata": {
        "id": "nYuVPF94yUHC"
      },
      "source": [
        "Last step! # Very important to transform the target variable back to original data space :)\n"
      ]
    },
    {
      "cell_type": "markdown",
      "metadata": {
        "id": "vhUeRu4Uy4QA"
      },
      "source": [
        "## Check Predictions of BiLSTM Model"
      ]
    },
    {
      "cell_type": "code",
      "metadata": {
        "colab": {
          "base_uri": "https://localhost:8080/",
          "height": 404
        },
        "id": "hnZyEh7Oy8lt",
        "outputId": "0bf46427-48e6-4787-ba4a-4a54c82f8cab"
      },
      "source": [
        "prediction = model_bilstm.predict(X_test)\n",
        "prediction = scaler_y.inverse_transform(prediction)\n",
        "true_future = scaler_y.inverse_transform(np.array(Y_test))\n",
        "    \n",
        "plt.figure(figsize=(10, 6))\n",
        "range_future = len(prediction)\n",
        "\n",
        "plt.plot(np.arange(range_future), true_future, label='True Future')\n",
        "plt.plot(np.arange(range_future), np.array(prediction),label='Prediction')\n",
        "\n",
        "plt.title('True future vs prediction for BiLSTM model')\n",
        "plt.legend(loc='upper left')\n",
        "plt.xlabel('Date')\n",
        "plt.ylabel('Hourly Indoor Air Temperature (degrees C)')\n",
        "\n",
        "plt.savefig(FIGURES_PATH + '/Model Check on Test Set Keeping training test batches continguous' +'.jpg', format='jpg', dpi=1000)\n",
        "plt.show()"
      ],
      "execution_count": 45,
      "outputs": [
        {
          "output_type": "display_data",
          "data": {
            "image/png": "[encoded data removed]",
            "text/plain": [
              "<Figure size 720x432 with 1 Axes>"
            ]
          },
          "metadata": {
            "needs_background": "light"
          }
        }
      ]
    },
    {
      "cell_type": "code",
      "metadata": {
        "colab": {
          "base_uri": "https://localhost:8080/"
        },
        "id": "uImyY81S2Jfe",
        "outputId": "cb447f41-47db-4a1d-85a6-10409498faae"
      },
      "source": [
        "# Calculate MAE and RMSE\n",
        "\n",
        "errors = prediction - Y_test\n",
        "mse = np.square(errors).mean()\n",
        "rmse = np.sqrt(mse)\n",
        "mae = np.abs(errors).mean()\n",
        "\n",
        "print('Mean Absolute Error: {:.4f}'.format(mae))\n",
        "print('Root Mean Square Error: {:.4f}'.format(rmse))"
      ],
      "execution_count": 46,
      "outputs": [
        {
          "output_type": "stream",
          "name": "stdout",
          "text": [
            "Mean Absolute Error: 23.6173\n",
            "Root Mean Square Error: 23.6206\n"
          ]
        }
      ]
    },
    {
      "cell_type": "markdown",
      "metadata": {
        "id": "qwrGhlEWvuYl"
      },
      "source": [
        "Conclusion: this approach as-is performs badly!"
      ]
    },
    {
      "cell_type": "markdown",
      "metadata": {
        "id": "1ZR4boOnYpPl"
      },
      "source": [
        "# IDEAS for IMPROVEMENT: \n",
        "\n",
        "BiLSTM model for sharpness of data: DILATE loss function\n",
        "\n",
        "In the literature this type of input data might be called \"sharp\", and the default scaling and loss functions lead to \"too smooth\" predictions...\n",
        "\n",
        "There are some special loss functions such as  DIstortion Loss including shApe and TimE (DILATE [link text](https://papers.nips.cc/paper/2019/file/466accbac9a66b805ba50e42ad715740-Paper.pdf)) or soft-dynamic time warping (soft-DTW) [link text](http://proceedings.mlr.press/v70/cuturi17a/cuturi17a.pdf)  which are specially designed for time series like this. "
      ]
    },
    {
      "cell_type": "code",
      "metadata": {
        "id": "c3N8m6L2Ymes"
      },
      "source": [
        ""
      ],
      "execution_count": null,
      "outputs": []
    },
    {
      "cell_type": "markdown",
      "metadata": {
        "id": "6DPPLKmYgOba"
      },
      "source": [
        "# ARCHIVED"
      ]
    },
    {
      "cell_type": "code",
      "metadata": {
        "id": "215cBSe61Pk3"
      },
      "source": [
        "\n",
        "# soft_dtw\n",
        "url = \"https://raw.githubusercontent.com/vincent-leguen/DILATE/master/loss/soft_dtw.py\"\n",
        "r = requests.get(url) \n",
        "with open('soft_dtw.py', 'w') as f:\n",
        "    f.write(r.text)\n",
        "import soft_dtw\n",
        "\n",
        "# dilate_loss\n",
        "url = \"https://raw.githubusercontent.com/vincent-leguen/DILATE/master/loss/dilate_loss.py\"\n",
        "r = requests.get(url) \n",
        "with open('dilate_loss.py', 'w') as f:\n",
        "    f.write(r.text)"
      ],
      "execution_count": null,
      "outputs": []
    },
    {
      "cell_type": "code",
      "metadata": {
        "id": "aG2QG1IbeCSj"
      },
      "source": [
        "# !cp drive/MyDrive/mylib.py \n",
        "# !cp \"$inputFile\" /destination/\n",
        "# import mylib\n",
        "\n",
        "InputFile = LOSS_PATH + '/dilate_loss' + '.py'\n",
        "!cp \"InputFile\"\n",
        "\n",
        "InputFile2 = LOSS_PATH + '/soft_dtw' + '.py'\n",
        "!cp \"InputFile2\"\n",
        "\n",
        "\n",
        "import dilate_loss.py\n",
        "import soft_dtw.py"
      ],
      "execution_count": null,
      "outputs": []
    },
    {
      "cell_type": "code",
      "metadata": {
        "id": "6VU9vPId56Sb"
      },
      "source": [
        "!git clone https://github.com/vincent-leguen/DILATE.git\n",
        "\n",
        "#%load dilate_loss.py\n",
        "%load path_soft_dtw.py\n",
        "#%load soft_dtw.py"
      ],
      "execution_count": null,
      "outputs": []
    },
    {
      "cell_type": "code",
      "metadata": {
        "id": "kWcj15cmx5yc"
      },
      "source": [
        "# Saved the files to drive (from repo here: https://github.com/vincent-leguen/DILATE.git)\n",
        "# Because the files internally refer back to a path structure that is not preserved when uploading to google drive\n",
        "\n",
        "#py_file_location = \"/content/drive/My Drive\"\n",
        "#sys.path.append(os.path.abspath(py_file_location))\n",
        "\n",
        " \n",
        "#sys.path.append(os.path.abspath(LOSS_PATH))\n",
        "import LOSS_PATH + dilate_loss"
      ],
      "execution_count": null,
      "outputs": []
    }
  ]
}