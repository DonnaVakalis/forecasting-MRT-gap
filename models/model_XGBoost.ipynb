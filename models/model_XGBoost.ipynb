{
  "nbformat": 4,
  "nbformat_minor": 0,
  "metadata": {
    "colab": {
      "name": "model_XGBoost.ipynb",
      "provenance": [],
      "collapsed_sections": [
        "PotS_WG4C0bC",
        "7TblImSlCdcM",
        "AAFXnOugCxQy",
        "9Gi4O9iC5fmn",
        "01BPEVfMoGHw",
        "Jg-0q2wswNkq",
        "Oaovum2mB39U",
        "0ICisOYGKIzA",
        "nSl76bU4f0l1",
        "DX64sYj2gCiH",
        "1PTx0Gw-ryR6",
        "jIGCfV8otYOT"
      ],
      "authorship_tag": "ABX9TyMU1oFRQnwOir/yVUIhNtzu",
      "include_colab_link": true
    },
    "kernelspec": {
      "name": "python3",
      "display_name": "Python 3"
    },
    "language_info": {
      "name": "python"
    }
  },
  "cells": [
    {
      "cell_type": "markdown",
      "metadata": {
        "id": "view-in-github",
        "colab_type": "text"
      },
      "source": [
        "<a href=\"https://colab.research.google.com/github/DonnaVakalis/forecasting-MRT-gap/blob/main/models/model_XGBoost.ipynb\" target=\"_parent\"><img src=\"https://colab.research.google.com/assets/colab-badge.svg\" alt=\"Open In Colab\"/></a>"
      ]
    },
    {
      "cell_type": "markdown",
      "metadata": {
        "id": "PotS_WG4C0bC"
      },
      "source": [
        "# PREAMBLE (ABOUT THIS NOTEBOOK)"
      ]
    },
    {
      "cell_type": "markdown",
      "metadata": {
        "id": "_gBDZLPtC7VV"
      },
      "source": [
        "This notebook applies data prediction with XGBoost model in Python, on time series (hourly) weather data to predict daily thermal comfort exceedances indoors (e.g., when it gets too hot, and by how much). While this notebook contains only the first steps, ultimately it can help determine how much cooling is needed (in terms of mean radiant temperature or MRT), and ultimately help decide on which cooling technologies are feasible and most carbon efficient."
      ]
    },
    {
      "cell_type": "markdown",
      "metadata": {
        "id": "7TblImSlCdcM"
      },
      "source": [
        "# IMPORTS"
      ]
    },
    {
      "cell_type": "code",
      "metadata": {
        "id": "GqrUpMCWCcCi",
        "colab": {
          "base_uri": "https://localhost:8080/"
        },
        "outputId": "48f40e68-611c-44dc-f423-771eb05df218"
      },
      "source": [
        "# Install NGBoost and hyperopt\n",
        "# ! pip install xgboost # this gives version 0.90\n",
        "! pip install xgboost==1.4.2 # as of Sept 2021 this is most recent stable release\n",
        "\n",
        "# import all the usual suspects :)\n",
        "import os\n",
        "from google.colab import drive\n",
        "import pickle\n",
        "import numpy as np\n",
        "import pandas as pd\n",
        "from numpy import array\n",
        "import matplotlib.pyplot as plt\n",
        "\n",
        "# Sci-kit learn packages for normalizing data and post-processing\n",
        "from sklearn.preprocessing import StandardScaler\n",
        "from sklearn import preprocessing\n",
        "from sklearn.tree import DecisionTreeRegressor\n",
        "from sklearn.model_selection import train_test_split, cross_val_score, KFold\n",
        "from sklearn.metrics import median_absolute_error, mean_absolute_error, mean_squared_error, matthews_corrcoef, r2_score\n",
        " \n",
        "\n",
        "# boosting libraries from XGBoost\n",
        "import xgboost as xgb\n",
        "\n",
        "\n",
        "print(\"XGBoost version:\", xgb.__version__)"
      ],
      "execution_count": 110,
      "outputs": [
        {
          "output_type": "stream",
          "name": "stdout",
          "text": [
            "Requirement already satisfied: xgboost==1.4.2 in /usr/local/lib/python3.7/dist-packages (1.4.2)\n",
            "Requirement already satisfied: scipy in /usr/local/lib/python3.7/dist-packages (from xgboost==1.4.2) (1.4.1)\n",
            "Requirement already satisfied: numpy in /usr/local/lib/python3.7/dist-packages (from xgboost==1.4.2) (1.19.5)\n",
            "XGBoost version: 1.4.2\n"
          ]
        }
      ]
    },
    {
      "cell_type": "markdown",
      "metadata": {
        "id": "AAFXnOugCxQy"
      },
      "source": [
        "# LOAD THE DATA"
      ]
    },
    {
      "cell_type": "markdown",
      "metadata": {
        "id": "VoRTvWQ-JxmY"
      },
      "source": [
        "The training and testing datasets were pre-processed in a separate notebook saved as separate pickles for 2015,2016 and 2017 (and separated by training and test and output variables based on a prior project) in this public repository:\n",
        "\n",
        "https://github.com/eta-lab/forecasting-comfort\n",
        "\n",
        "Details about methods from this project can be found here: Rysanek, A., Nuttall, R., McCarty, J, (2021). Forecasting the impact of climate change on thermal comfort using a weighted ensemble of supervised learning models. Building & Environment."
      ]
    },
    {
      "cell_type": "markdown",
      "metadata": {
        "id": "VlT43iKVKIhB"
      },
      "source": [
        "## MOUNT DRIVE"
      ]
    },
    {
      "cell_type": "code",
      "metadata": {
        "id": "oXkLfzWnCzit",
        "colab": {
          "base_uri": "https://localhost:8080/"
        },
        "outputId": "29b54053-3954-42ec-f0f4-6f8a0f6e12dc"
      },
      "source": [
        "# Point to the folder for this project (forecasting-MRT-gap/data)\n",
        "drive.mount('/content/gdrive')\n",
        "DATA_PATH = \"/content/gdrive/My Drive/Colab Notebooks/forecasting-MRT-gap/data\"\n",
        "FIGURES_PATH = \"/content/gdrive/My Drive/Colab Notebooks/forecasting-MRT-gap/figures\""
      ],
      "execution_count": 131,
      "outputs": [
        {
          "output_type": "stream",
          "name": "stdout",
          "text": [
            "Drive already mounted at /content/gdrive; to attempt to forcibly remount, call drive.mount(\"/content/gdrive\", force_remount=True).\n"
          ]
        }
      ]
    },
    {
      "cell_type": "markdown",
      "metadata": {
        "id": "Jg-0q2wswNkq"
      },
      "source": [
        "## Upload Data and Restrict to Summer/Non-smoky Times\n",
        "\n",
        "We want temperature data from all three summers, minus the smoky periods (smoke-affected days = when recorded incidences of regional forest fires)\n",
        "\n",
        "These are respectively the first two weeks of July 2015 and the first two weeks of August 2017"
      ]
    },
    {
      "cell_type": "code",
      "metadata": {
        "id": "z5v_-qcrYCqn"
      },
      "source": [
        "# 2015\n",
        "\n",
        "# get training set from another year (so complete for 2015)\n",
        "df_1 = pickle.load(open(DATA_PATH +'/trainX_2016.pkl','rb'))\n",
        "\n",
        "# keep only summer dates, e.g., June, July and August:\n",
        "remove_before = pd.to_datetime('2015-05-23') #*keep last week of May for lag time\n",
        "remove_after = pd.to_datetime('2015-08-31')\n",
        "df_2 = df_1.query('index >= @remove_before and index <= @remove_after')\n",
        "\n",
        "# drop smoke weeks (first two weeks July 2015) \n",
        "start_smoke = pd.to_datetime('2015-07-01')\n",
        "end_smoke = pd.to_datetime('2015-07-14')\n",
        "df_3 = df_2.query('index < @start_smoke or index > @end_smoke')\n",
        "\n",
        "# save 2015 outdoor temps (x variable)\n",
        "df_2015_X = df_3 \n",
        "\n",
        "\n",
        "\n",
        "# 2016 \n",
        "\n",
        "# get training set from another year (so complete for 2016)\n",
        "df_1 = pickle.load(open(DATA_PATH +'/trainX_2017.pkl','rb'))\n",
        "\n",
        "# keep only summer dates, e.g., June, July and August:\n",
        "remove_before = pd.to_datetime('2016-05-23') #*keep last week of May for lag time\n",
        "remove_after = pd.to_datetime('2016-08-31')\n",
        "df_2 = df_1.query('index >= @remove_before and index <= @remove_after')\n",
        "\n",
        "# save 2016 outdoor temps (x variable)\n",
        "df_2016_X = df_2\n",
        "\n",
        "\n",
        "\n",
        "# 2017\n",
        "\n",
        "# get training set from another year (so complete for 2017)\n",
        "df_1 = pickle.load(open(DATA_PATH +'/trainX_2015.pkl','rb'))\n",
        "\n",
        "# keep only summer dates, e.g., June, July and August:\n",
        "remove_before = pd.to_datetime('2017-05-23') #*keep last week of May for lag time\n",
        "remove_after = pd.to_datetime('2017-08-31')\n",
        "df_2 = df_1.query('index >= @remove_before and index <= @remove_after')\n",
        "\n",
        "# drop smoke weeks (first two weeks July 2015) \n",
        "start_smoke = pd.to_datetime('2017-08-01')\n",
        "end_smoke = pd.to_datetime('2017-07-14')\n",
        "df_3 = df_2.query('index < @start_smoke or index > @end_smoke')\n",
        "\n",
        "# save 2017 outdoor temps (x variable)\n",
        "df_2017_X = df_3"
      ],
      "execution_count": 132,
      "outputs": []
    },
    {
      "cell_type": "code",
      "metadata": {
        "colab": {
          "base_uri": "https://localhost:8080/",
          "height": 264
        },
        "id": "m0E6kQnz_pN7",
        "outputId": "2bdfeacd-425e-4ad1-dab9-b6bfc0d4703e"
      },
      "source": [
        "# plot all outdoor temperatures in cleaned dataset\n",
        "plt.plot(df_2015_X.index, df_2015_X.temp, df_2016_X.index, df_2016_X.temp, df_2017_X.index, df_2017_X.temp) \n",
        "plt.show() "
      ],
      "execution_count": 133,
      "outputs": [
        {
          "output_type": "display_data",
          "data": {
            "image/png": "[encoded data removed]",
            "text/plain": [
              "<Figure size 432x288 with 1 Axes>"
            ]
          },
          "metadata": {
            "needs_background": "light"
          }
        }
      ]
    },
    {
      "cell_type": "markdown",
      "metadata": {
        "id": "3QJd2ySbFskx"
      },
      "source": [
        "# SELECT FEATURES"
      ]
    },
    {
      "cell_type": "code",
      "metadata": {
        "id": "Lnd-2uZKFvRl"
      },
      "source": [
        "# keep indoor air temp and relative humidity\n",
        "df_2015_X = df_2015_X[['temp','last_temp_2','last_temp_4','hum_ratio']]\n",
        "df_2016_X = df_2016_X[['temp','last_temp_2','last_temp_4','hum_ratio']]\n",
        "df_2017_X = df_2017_X[['temp','last_temp_2','last_temp_4','hum_ratio']]"
      ],
      "execution_count": 134,
      "outputs": []
    },
    {
      "cell_type": "markdown",
      "metadata": {
        "id": "S_bYl7PXJk1-"
      },
      "source": [
        "## Add feature for previous temperatures"
      ]
    },
    {
      "cell_type": "code",
      "metadata": {
        "id": "otkG4-YJChp0"
      },
      "source": [
        "ls_X = [df_2015_X, df_2016_X, df_2017_X] \n",
        "\n",
        "\n",
        "# Add rolling average air temp of the last 48 hours\n",
        "def addAverage(df):\n",
        "    df['temp_ave_48hr'] = df['temp'].rolling(48).mean()\n",
        "    return df \n",
        "ls_X2  = [addAverage(df) for df in ls_X]\n",
        " \n",
        "\n",
        "# Add the rolling max air temp of the last 24 hours\n",
        "def addMax(df):\n",
        "    df['temp_max_24hr'] = df['temp'].rolling(24).max()\n",
        "    return df \n",
        "ls_X3  = [addMax(df) for df in ls_X2]\n",
        "\n",
        "\n",
        "# Add the rolling min air temp of the last 24 hours\n",
        "def addMin(df):\n",
        "    df['temp_min_24hr'] = df['temp'].rolling(24).min()\n",
        "    return df \n",
        "ls_X4  = [addMin(df) for df in ls_X3]"
      ],
      "execution_count": null,
      "outputs": []
    },
    {
      "cell_type": "markdown",
      "metadata": {
        "id": "V-OB5KCTHcQo"
      },
      "source": [
        "## Concatenate 2015, 2016, 2017 into one dataframe"
      ]
    },
    {
      "cell_type": "code",
      "metadata": {
        "id": "CfNmeY-WHV2r"
      },
      "source": [
        "# save a single dataset with all years\n",
        "df_all_X = pd.concat(ls_X4)"
      ],
      "execution_count": 136,
      "outputs": []
    },
    {
      "cell_type": "markdown",
      "metadata": {
        "id": "nSl76bU4f0l1"
      },
      "source": [
        "## Add feature for time of day "
      ]
    },
    {
      "cell_type": "markdown",
      "metadata": {
        "id": "GcgO__MkZWFO"
      },
      "source": [
        "This step adds a variable to help the model understand the cyclicity of the 24 hours cycle\n",
        "It borrows from the tutorial provided here: https://towardsdatascience.com/single-and-multi-step-temperature-time-series-forecasting-for-vilnius-using-lstm-deep-learning-b9719a0009de\n",
        "\n",
        "We want the machine to know that hours 23 and 0 are closer to each other than hours 0 and 4. We know that the period of the cycle is 24 hours. We can use the cos(x) and sin(x) functions. The x in the functions is the hour of the day."
      ]
    },
    {
      "cell_type": "code",
      "metadata": {
        "id": "seFBtHHEY8c3"
      },
      "source": [
        "# Extract the hour of day\n",
        "df_all_X[\"hour\"] = df_all_X.index.hour\n",
        "\n",
        "# Transform to the cyclical daily feature \n",
        "df_all_X[\"day_cos\"] = [np.cos(x * (2 * np.pi / 24)) for x in df_all_X[\"hour\"]]\n",
        "df_all_X[\"day_sin\"] = [np.sin(x * (2 * np.pi / 24)) for x in df_all_X[\"hour\"]]\n",
        "\n",
        "# Drop hour of the day as it's own feature\n",
        "df_all_X.drop('hour', axis=1, inplace=True)"
      ],
      "execution_count": 137,
      "outputs": []
    },
    {
      "cell_type": "markdown",
      "metadata": {
        "id": "Oaovum2mB39U"
      },
      "source": [
        "# GET INDOOR AIR TEMPERATURES FOR SAME TIME SPANS"
      ]
    },
    {
      "cell_type": "code",
      "metadata": {
        "id": "0wMf2PSmB9by"
      },
      "source": [
        "#Get raw data of indoor air temps (what we want to predict) \n",
        "\n",
        "df1 = pickle.load(open(DATA_PATH +'/trainY_2015.pkl','rb'))\n",
        "df2 = pickle.load(open(DATA_PATH +'/trainY_2016.pkl','rb'))\n",
        "df3 = pickle.load(open(DATA_PATH +'/trainY_2017.pkl','rb'))\n",
        "\n",
        "\n",
        "# Put in all in one place \n",
        "ls_Y = [df1, df2, df3]  \n",
        "df_Y = pd.concat(ls_Y)\n",
        "\n",
        "# Drop duplicated date-times\n",
        "\n",
        "df_Y = df_Y[~df_Y.index.duplicated(keep='first')]\n",
        "\n",
        "# Drop date-times not in X set\n",
        "\n",
        "df_all_Y = df_Y[df_Y.index.isin(df_all_X.index)]"
      ],
      "execution_count": 138,
      "outputs": []
    },
    {
      "cell_type": "code",
      "metadata": {
        "colab": {
          "base_uri": "https://localhost:8080/"
        },
        "id": "yDlUknOUXBii",
        "outputId": "c2feb157-8966-46fb-d5c1-6617b6d5277e"
      },
      "source": [
        "df_all_X.columns"
      ],
      "execution_count": 139,
      "outputs": [
        {
          "output_type": "execute_result",
          "data": {
            "text/plain": [
              "Index(['temp', 'last_temp_2', 'last_temp_4', 'hum_ratio', 'temp_ave_48hr',\n",
              "       'temp_max_24hr', 'temp_min_24hr', 'day_cos', 'day_sin'],\n",
              "      dtype='object')"
            ]
          },
          "metadata": {},
          "execution_count": 139
        }
      ]
    },
    {
      "cell_type": "markdown",
      "metadata": {
        "id": "0ICisOYGKIzA"
      },
      "source": [
        "## Plot X feature versus and Y variables"
      ]
    },
    {
      "cell_type": "code",
      "metadata": {
        "colab": {
          "base_uri": "https://localhost:8080/",
          "height": 513
        },
        "id": "M53g3iJhJczi",
        "outputId": "3027787a-2963-4483-a262-a7eda6d9a3cc"
      },
      "source": [
        "# plot Outdoor (X values) and Indoor (to be predicted)\n",
        "plt.plot(df_all_X.index, df_all_X.temp, df_all_Y.index, df_all_Y) \n",
        "plt.show()\n",
        "\n",
        "plt.plot(df_all_X.index, df_all_X.temp_ave_48hr, df_all_Y.index, df_all_Y) \n",
        "plt.show()"
      ],
      "execution_count": 150,
      "outputs": [
        {
          "output_type": "display_data",
          "data": {
            "image/png": "[encoded data removed]",
            "text/plain": [
              "<Figure size 432x288 with 1 Axes>"
            ]
          },
          "metadata": {
            "needs_background": "light"
          }
        },
        {
          "output_type": "display_data",
          "data": {
            "image/png": "[encoded data removed]",
            "text/plain": [
              "<Figure size 432x288 with 1 Axes>"
            ]
          },
          "metadata": {
            "needs_background": "light"
          }
        }
      ]
    },
    {
      "cell_type": "markdown",
      "metadata": {
        "id": "r9Yz0l-jUKTP"
      },
      "source": [
        "## Count features, label Xs and Ys"
      ]
    },
    {
      "cell_type": "code",
      "metadata": {
        "colab": {
          "base_uri": "https://localhost:8080/"
        },
        "id": "WyCx-eRqMRLN",
        "outputId": "29c31192-5579-4a5a-8900-1d23389bb6a6"
      },
      "source": [
        "features = []\n",
        "\n",
        "dataset = df_all_X\n",
        "dataset['indoor_temp']= df_all_Y\n",
        "\n",
        "num_of_rows = dataset.shape[0]\n",
        "num_of_columns = dataset.shape[1]\n",
        "num_of_classes = 1 #default value is 1 for regression. \n",
        "\n",
        "for i in range(0, num_of_columns):\n",
        "      column_name = dataset.columns[i]\n",
        "      column_type = dataset[column_name].dtypes\n",
        "      \n",
        "      if i != num_of_columns - 1: #skip target\n",
        "          features.append(column_name)\n",
        "          \n",
        "target_name = dataset.columns[num_of_columns - 1] \n",
        "\n",
        "y_all = dataset[target_name]\n",
        "x_all = dataset.drop(columns=[target_name])\n",
        "\n",
        "print(\"num_of_features: \", len(features))\n",
        "print(\"features: \",features)\n",
        "print(\"predicting: \",target_name)\n",
        "print(\"n :\", len(x_all))"
      ],
      "execution_count": 141,
      "outputs": [
        {
          "output_type": "stream",
          "name": "stdout",
          "text": [
            "num_of_features:  9\n",
            "features:  ['temp', 'last_temp_2', 'last_temp_4', 'hum_ratio', 'temp_ave_48hr', 'temp_max_24hr', 'temp_min_24hr', 'day_cos', 'day_sin']\n",
            "predicting:  indoor_temp\n",
            "n : 4632\n"
          ]
        }
      ]
    },
    {
      "cell_type": "markdown",
      "metadata": {
        "id": "76p-YHQ1MStt"
      },
      "source": [
        "# DEFINE XGBoost MODEL"
      ]
    },
    {
      "cell_type": "markdown",
      "metadata": {
        "id": "2k5wzFC6WQd4"
      },
      "source": [
        "## Split training and test sets"
      ]
    },
    {
      "cell_type": "code",
      "metadata": {
        "colab": {
          "base_uri": "https://localhost:8080/"
        },
        "id": "fFx5kTatWO1e",
        "outputId": "21f17ac5-8b76-4c33-a01c-68e2c4958380"
      },
      "source": [
        "x = x_all.copy().to_numpy()\n",
        "# need to reshape Y which contains 1 features (currently it's 0) \n",
        "y = y_all.copy().to_numpy().reshape(-1,1)\n",
        "\n",
        "# NB split should not be an unordered... (shuffle=False)\n",
        "x_train, testX, y_train, testY = train_test_split(x, y, shuffle = False, test_size= 0.12)\n",
        " \n",
        "train_dim = (x_train.shape, y_train.shape)\n",
        "test_dim = (testX.shape, testY.shape)\n",
        "\n",
        "# check\n",
        "print(\"train_dim Xs and Y:\", train_dim)\n",
        "print(\"test_dim Xs and Y\", test_dim)"
      ],
      "execution_count": 142,
      "outputs": [
        {
          "output_type": "stream",
          "name": "stdout",
          "text": [
            "train_dim Xs and Y: ((4076, 9), (4076, 1))\n",
            "test_dim Xs and Y ((556, 9), (556, 1))\n"
          ]
        }
      ]
    },
    {
      "cell_type": "markdown",
      "metadata": {
        "id": "h4g6dJWrZK-3"
      },
      "source": [
        "## Create the regression model\n"
      ]
    },
    {
      "cell_type": "markdown",
      "metadata": {
        "id": "sKbig-ifZ-eb"
      },
      "source": [
        "### Set hyper parameters\n",
        "n_estimators: The number of trees in the ensemble, often increased until no further improvements are seen.\n",
        "\n",
        "max_depth: The maximum depth of each tree, often values are between 1 and 10.\n",
        "\n",
        "eta: The learning rate used to weight each model, often set to small values such as 0.3, 0.1, 0.01, or smaller.\n",
        "\n",
        "subsample: The number of samples (rows) used in each tree, set to a value between 0 and 1, often 1.0 to use all samples.\n",
        "\n",
        "colsample_bytree: Number of features (columns) used in each tree, set to a value between 0 and 1, often 1.0 to use all features."
      ]
    },
    {
      "cell_type": "code",
      "metadata": {
        "id": "JQlBLbtLZKrE"
      },
      "source": [
        "# n_estimators \n",
        "N_EST = 1000\n",
        "\n",
        "# max_depth\n",
        "MAX_D = 7\n",
        "\n",
        "# eta\n",
        "ETA = 0.1 \n",
        "\n",
        "# subsample\n",
        "SUB = 0.7 \n",
        "\n",
        "# colsample_bytree\n",
        "SMPL_TREE = 0.8\n",
        "\n",
        "# create an xgboost regression model\n",
        "model = xgb.XGBRegressor(n_estimators=N_EST, max_depth=MAX_D, eta=ETA, subsample=SUB, colsample_bytree=SMPL_TREE)"
      ],
      "execution_count": 143,
      "outputs": []
    },
    {
      "cell_type": "markdown",
      "metadata": {
        "id": "SqSWmn3LdWRY"
      },
      "source": [
        "## Fit the model with the training data"
      ]
    },
    {
      "cell_type": "code",
      "metadata": {
        "colab": {
          "base_uri": "https://localhost:8080/"
        },
        "id": "EFI6d55ndRm7",
        "outputId": "3dcc2ffa-6a68-4946-887d-c82b51158288"
      },
      "source": [
        "model.fit(x_train, y_train)"
      ],
      "execution_count": 144,
      "outputs": [
        {
          "output_type": "execute_result",
          "data": {
            "text/plain": [
              "XGBRegressor(base_score=0.5, booster='gbtree', colsample_bylevel=1,\n",
              "             colsample_bynode=1, colsample_bytree=0.8, eta=0.1, gamma=0,\n",
              "             gpu_id=-1, importance_type='gain', interaction_constraints='',\n",
              "             learning_rate=0.100000001, max_delta_step=0, max_depth=7,\n",
              "             min_child_weight=1, missing=nan, monotone_constraints='()',\n",
              "             n_estimators=1000, n_jobs=2, num_parallel_tree=1,\n",
              "             objective='reg:squarederror', random_state=0, reg_alpha=0,\n",
              "             reg_lambda=1, scale_pos_weight=1, subsample=0.7,\n",
              "             tree_method='exact', validate_parameters=1, verbosity=None)"
            ]
          },
          "metadata": {},
          "execution_count": 144
        }
      ]
    },
    {
      "cell_type": "code",
      "metadata": {
        "colab": {
          "base_uri": "https://localhost:8080/"
        },
        "id": "9QSpqx9jX86L",
        "outputId": "75f519ec-a126-4400-b5a2-f19c39d59686"
      },
      "source": [
        "# Training score\n",
        "score = model.score(x_train, y_train)  \n",
        "print(\"Training score: \", score)\n",
        "\n",
        "# K-fold cross-validation average score (from sklearn library)\n",
        "kfold = KFold(n_splits=10, shuffle=True)\n",
        "kf_cv_scores = cross_val_score(model, x_train, y_train, cv=kfold )\n",
        "print(\"K-fold CV average score: %.2f\" % kf_cv_scores.mean())"
      ],
      "execution_count": 145,
      "outputs": [
        {
          "output_type": "stream",
          "name": "stdout",
          "text": [
            "Training score:  0.9999849138195972\n",
            "K-fold CV average score: 0.93\n"
          ]
        }
      ]
    },
    {
      "cell_type": "markdown",
      "metadata": {
        "id": "BWn0tu1CeiLD"
      },
      "source": [
        "## Predict values (and compare to test set)"
      ]
    },
    {
      "cell_type": "code",
      "metadata": {
        "colab": {
          "base_uri": "https://localhost:8080/",
          "height": 316
        },
        "id": "vf_vrOjYeofp",
        "outputId": "53c2601d-e5e2-4481-bb54-661d2ca427ee"
      },
      "source": [
        "# Prediction\n",
        "y_pred = model.predict(testX)\n",
        "\n",
        "# Calculate Mean Squared Error\n",
        "mse = mean_squared_error(testY, y_pred)\n",
        "print(\"MSE: %.2f\" % mse)\n",
        "print(\"RMSE: %.2f\" % (mse**(1/2.0)))\n",
        "\n",
        "# Visualize Predictions versus Test Set\n",
        "x_ax = range(len(testY))\n",
        "plt.plot(x_ax, testY, label=\"original\")\n",
        "plt.plot(x_ax, y_pred, label=\"predicted\")\n",
        "plt.title(\"Indoor Air Temp\")\n",
        "plt.legend()\n",
        "plt.show()"
      ],
      "execution_count": 146,
      "outputs": [
        {
          "output_type": "stream",
          "name": "stdout",
          "text": [
            "MSE: 0.58\n",
            "RMSE: 0.76\n"
          ]
        },
        {
          "output_type": "display_data",
          "data": {
            "image/png": "[encoded data removed]",
            "text/plain": [
              "<Figure size 432x288 with 1 Axes>"
            ]
          },
          "metadata": {
            "needs_background": "light"
          }
        }
      ]
    },
    {
      "cell_type": "markdown",
      "metadata": {
        "id": "LcECgc_SDhrK"
      },
      "source": [
        "# Sum number of hours that exceed comfort threshold  \n",
        "\n",
        "Calculate a new 'outcome' for whether the current hour is 'comfortable', based on the temp and humidity (whether in the training or test or predicted sets)"
      ]
    },
    {
      "cell_type": "code",
      "metadata": {
        "id": "Cb9EmXSRDg0W"
      },
      "source": [
        ""
      ],
      "execution_count": null,
      "outputs": []
    }
  ]
}